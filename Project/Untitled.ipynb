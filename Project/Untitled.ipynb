{
 "cells": [
  {
   "cell_type": "code",
   "execution_count": 9,
   "id": "c86ffed0",
   "metadata": {
    "scrolled": true
   },
   "outputs": [
    {
     "ename": "NameError",
     "evalue": "name 'Session' is not defined",
     "output_type": "error",
     "traceback": [
      "\u001b[1;31m---------------------------------------------------------------------------\u001b[0m",
      "\u001b[1;31mNameError\u001b[0m                                 Traceback (most recent call last)",
      "Input \u001b[1;32mIn [9]\u001b[0m, in \u001b[0;36m<cell line: 11>\u001b[1;34m()\u001b[0m\n\u001b[0;32m      8\u001b[0m user_agent \u001b[38;5;241m=\u001b[39m \u001b[38;5;124m'\u001b[39m\u001b[38;5;124mYOUR_USER_AGENT\u001b[39m\u001b[38;5;124m'\u001b[39m\n\u001b[0;32m     10\u001b[0m \u001b[38;5;66;03m# Custom Session to use certifi for SSL verification\u001b[39;00m\n\u001b[1;32m---> 11\u001b[0m \u001b[38;5;28;01mclass\u001b[39;00m \u001b[38;5;21;01mCustomSession\u001b[39;00m(\u001b[43mSession\u001b[49m):\n\u001b[0;32m     12\u001b[0m     \u001b[38;5;28;01mdef\u001b[39;00m \u001b[38;5;21m__init__\u001b[39m(\u001b[38;5;28mself\u001b[39m, \u001b[38;5;241m*\u001b[39margs, \u001b[38;5;241m*\u001b[39m\u001b[38;5;241m*\u001b[39mkwargs):\n\u001b[0;32m     13\u001b[0m         \u001b[38;5;28msuper\u001b[39m()\u001b[38;5;241m.\u001b[39m\u001b[38;5;21m__init__\u001b[39m(\u001b[38;5;241m*\u001b[39margs, \u001b[38;5;241m*\u001b[39m\u001b[38;5;241m*\u001b[39mkwargs)\n",
      "\u001b[1;31mNameError\u001b[0m: name 'Session' is not defined"
     ]
    }
   ],
   "source": [
    "import praw\n",
    "import certifi\n",
    "import requests\n",
    "\n",
    "# Replace with your actual values\n",
    "client_id = 'TQ5KQcMtMk18UrIRv0ty6w'\n",
    "client_secret = 'm37cqz581mRlsx6Fk986MhJgVVTdtQ'\n",
    "user_agent = 'YOUR_USER_AGENT'\n",
    "\n",
    "# Custom Session to use certifi for SSL verification\n",
    "class CustomSession(Session):\n",
    "    def __init__(self, *args, **kwargs):\n",
    "        super().__init__(*args, **kwargs)\n",
    "        self._http.verify = certifi.where()\n",
    "\n",
    "# Custom Requestor to use the Custom Session\n",
    "class CustomRequestor(Requestor):\n",
    "    def __init__(self, *args, **kwargs):\n",
    "        super().__init__(*args, **kwargs)\n",
    "        self._session = CustomSession(self._session)\n",
    "\n",
    "# Initialize PRAW instance with custom requestor\n",
    "reddit = praw.Reddit(client_id=client_id,\n",
    "                     client_secret=client_secret,\n",
    "                     user_agent=user_agent,\n",
    "                     requestor_class=CustomRequestor)\n",
    "\n",
    "# Example: Fetching posts from r/cricket subreddit\n",
    "subreddit = reddit.subreddit('cricket')\n",
    "for post in subreddit.hot(limit=10):\n",
    "    print(post.title)"
   ]
  },
  {
   "cell_type": "code",
   "execution_count": 2,
   "id": "eeab6aa4",
   "metadata": {},
   "outputs": [
    {
     "name": "stdout",
     "output_type": "stream",
     "text": [
      "Collecting praw\n",
      "  Downloading praw-7.7.1-py3-none-any.whl (191 kB)\n",
      "Requirement already satisfied: requests in c:\\users\\lenovo\\anaconda2\\lib\\site-packages (2.27.1)\n",
      "Requirement already satisfied: beautifulsoup4 in c:\\users\\lenovo\\anaconda2\\lib\\site-packages (4.11.1)\n",
      "Collecting prawcore<3,>=2.1\n",
      "  Downloading prawcore-2.4.0-py3-none-any.whl (17 kB)\n",
      "Requirement already satisfied: websocket-client>=0.54.0 in c:\\users\\lenovo\\anaconda2\\lib\\site-packages (from praw) (0.58.0)\n",
      "Collecting update-checker>=0.18\n",
      "  Downloading update_checker-0.18.0-py3-none-any.whl (7.0 kB)\n",
      "Requirement already satisfied: idna<4,>=2.5 in c:\\users\\lenovo\\anaconda2\\lib\\site-packages (from requests) (3.3)\n",
      "Requirement already satisfied: urllib3<1.27,>=1.21.1 in c:\\users\\lenovo\\anaconda2\\lib\\site-packages (from requests) (1.26.9)\n",
      "Requirement already satisfied: charset-normalizer~=2.0.0 in c:\\users\\lenovo\\anaconda2\\lib\\site-packages (from requests) (2.0.4)\n",
      "Requirement already satisfied: certifi>=2017.4.17 in c:\\users\\lenovo\\anaconda2\\lib\\site-packages (from requests) (2021.10.8)\n",
      "Requirement already satisfied: soupsieve>1.2 in c:\\users\\lenovo\\anaconda2\\lib\\site-packages (from beautifulsoup4) (2.3.1)\n",
      "Requirement already satisfied: six in c:\\users\\lenovo\\anaconda2\\lib\\site-packages (from websocket-client>=0.54.0->praw) (1.16.0)\n",
      "Installing collected packages: update-checker, prawcore, praw\n",
      "Successfully installed praw-7.7.1 prawcore-2.4.0 update-checker-0.18.0\n",
      "Note: you may need to restart the kernel to use updated packages.\n"
     ]
    },
    {
     "name": "stderr",
     "output_type": "stream",
     "text": [
      "WARNING: Ignoring invalid distribution -rotobuf (c:\\users\\lenovo\\anaconda2\\lib\\site-packages)\n",
      "WARNING: Ignoring invalid distribution -rotobuf (c:\\users\\lenovo\\anaconda2\\lib\\site-packages)\n",
      "WARNING: Ignoring invalid distribution -rotobuf (c:\\users\\lenovo\\anaconda2\\lib\\site-packages)\n",
      "WARNING: Ignoring invalid distribution -rotobuf (c:\\users\\lenovo\\anaconda2\\lib\\site-packages)\n",
      "WARNING: Ignoring invalid distribution -rotobuf (c:\\users\\lenovo\\anaconda2\\lib\\site-packages)\n",
      "WARNING: Ignoring invalid distribution -rotobuf (c:\\users\\lenovo\\anaconda2\\lib\\site-packages)\n",
      "WARNING: Ignoring invalid distribution -rotobuf (c:\\users\\lenovo\\anaconda2\\lib\\site-packages)\n",
      "WARNING: Ignoring invalid distribution -rotobuf (c:\\users\\lenovo\\anaconda2\\lib\\site-packages)\n",
      "WARNING: Ignoring invalid distribution -rotobuf (c:\\users\\lenovo\\anaconda2\\lib\\site-packages)\n"
     ]
    }
   ],
   "source": [
    "pip install praw requests beautifulsoup4"
   ]
  },
  {
   "cell_type": "code",
   "execution_count": 4,
   "id": "99a4b6a2",
   "metadata": {},
   "outputs": [
    {
     "name": "stdout",
     "output_type": "stream",
     "text": [
      "Requirement already satisfied: certifi in c:\\users\\lenovo\\anaconda2\\lib\\site-packages (2021.10.8)\n",
      "Collecting certifi\n",
      "  Downloading certifi-2024.6.2-py3-none-any.whl (164 kB)\n",
      "Requirement already satisfied: requests in c:\\users\\lenovo\\anaconda2\\lib\\site-packages (2.27.1)\n",
      "Collecting requests\n",
      "  Downloading requests-2.32.3-py3-none-any.whl (64 kB)\n",
      "Requirement already satisfied: idna<4,>=2.5 in c:\\users\\lenovo\\anaconda2\\lib\\site-packages (from requests) (3.3)\n",
      "Requirement already satisfied: urllib3<3,>=1.21.1 in c:\\users\\lenovo\\anaconda2\\lib\\site-packages (from requests) (1.26.9)\n",
      "Requirement already satisfied: charset-normalizer<4,>=2 in c:\\users\\lenovo\\anaconda2\\lib\\site-packages (from requests) (2.0.4)\n",
      "Installing collected packages: certifi, requests\n",
      "  Attempting uninstall: certifi\n",
      "    Found existing installation: certifi 2021.10.8\n",
      "    Uninstalling certifi-2021.10.8:\n",
      "      Successfully uninstalled certifi-2021.10.8\n",
      "  Attempting uninstall: requests\n",
      "    Found existing installation: requests 2.27.1\n",
      "    Uninstalling requests-2.27.1:\n",
      "      Successfully uninstalled requests-2.27.1Note: you may need to restart the kernel to use updated packages.\n",
      "Successfully installed certifi-2024.6.2 requests-2.32.3\n",
      "\n"
     ]
    },
    {
     "name": "stderr",
     "output_type": "stream",
     "text": [
      "WARNING: Ignoring invalid distribution -rotobuf (c:\\users\\lenovo\\anaconda2\\lib\\site-packages)\n",
      "WARNING: Ignoring invalid distribution -rotobuf (c:\\users\\lenovo\\anaconda2\\lib\\site-packages)\n",
      "WARNING: Ignoring invalid distribution -rotobuf (c:\\users\\lenovo\\anaconda2\\lib\\site-packages)\n",
      "    WARNING: Ignoring invalid distribution -rotobuf (c:\\users\\lenovo\\anaconda2\\lib\\site-packages)\n",
      "    WARNING: Ignoring invalid distribution -rotobuf (c:\\users\\lenovo\\anaconda2\\lib\\site-packages)\n",
      "WARNING: Ignoring invalid distribution -rotobuf (c:\\users\\lenovo\\anaconda2\\lib\\site-packages)\n",
      "WARNING: Ignoring invalid distribution -rotobuf (c:\\users\\lenovo\\anaconda2\\lib\\site-packages)\n",
      "ERROR: pip's dependency resolver does not currently take into account all the packages that are installed. This behaviour is the source of the following dependency conflicts.\n",
      "conda-repo-cli 1.0.4 requires pathlib, which is not installed.\n",
      "anaconda-project 0.10.2 requires ruamel-yaml, which is not installed.\n",
      "WARNING: Ignoring invalid distribution -rotobuf (c:\\users\\lenovo\\anaconda2\\lib\\site-packages)\n",
      "WARNING: Ignoring invalid distribution -rotobuf (c:\\users\\lenovo\\anaconda2\\lib\\site-packages)\n",
      "WARNING: Ignoring invalid distribution -rotobuf (c:\\users\\lenovo\\anaconda2\\lib\\site-packages)\n"
     ]
    }
   ],
   "source": [
    "pip install --upgrade certifi requests"
   ]
  },
  {
   "cell_type": "code",
   "execution_count": 10,
   "id": "6b770b2c",
   "metadata": {},
   "outputs": [
    {
     "ename": "NameError",
     "evalue": "name 'CustomRequestor' is not defined",
     "output_type": "error",
     "traceback": [
      "\u001b[1;31m---------------------------------------------------------------------------\u001b[0m",
      "\u001b[1;31mNameError\u001b[0m                                 Traceback (most recent call last)",
      "Input \u001b[1;32mIn [10]\u001b[0m, in \u001b[0;36m<cell line: 6>\u001b[1;34m()\u001b[0m\n\u001b[0;32m      1\u001b[0m proxies \u001b[38;5;241m=\u001b[39m {\n\u001b[0;32m      2\u001b[0m     \u001b[38;5;124m'\u001b[39m\u001b[38;5;124mhttp\u001b[39m\u001b[38;5;124m'\u001b[39m: \u001b[38;5;124m'\u001b[39m\u001b[38;5;124mhttp://your_proxy:your_port\u001b[39m\u001b[38;5;124m'\u001b[39m,\n\u001b[0;32m      3\u001b[0m     \u001b[38;5;124m'\u001b[39m\u001b[38;5;124mhttps\u001b[39m\u001b[38;5;124m'\u001b[39m: \u001b[38;5;124m'\u001b[39m\u001b[38;5;124mhttp://your_proxy:your_port\u001b[39m\u001b[38;5;124m'\u001b[39m\n\u001b[0;32m      4\u001b[0m }\n\u001b[0;32m      6\u001b[0m reddit \u001b[38;5;241m=\u001b[39m praw\u001b[38;5;241m.\u001b[39mReddit(client_id\u001b[38;5;241m=\u001b[39mclient_id,\n\u001b[0;32m      7\u001b[0m                      client_secret\u001b[38;5;241m=\u001b[39mclient_secret,\n\u001b[0;32m      8\u001b[0m                      user_agent\u001b[38;5;241m=\u001b[39muser_agent,\n\u001b[1;32m----> 9\u001b[0m                      requestor_class\u001b[38;5;241m=\u001b[39m\u001b[43mCustomRequestor\u001b[49m,\n\u001b[0;32m     10\u001b[0m                      requestor_kwargs\u001b[38;5;241m=\u001b[39m{\u001b[38;5;124m'\u001b[39m\u001b[38;5;124mproxies\u001b[39m\u001b[38;5;124m'\u001b[39m: proxies})\n",
      "\u001b[1;31mNameError\u001b[0m: name 'CustomRequestor' is not defined"
     ]
    }
   ],
   "source": [
    "proxies = {\n",
    "    'http': 'http://your_proxy:your_port',\n",
    "    'https': 'http://your_proxy:your_port'\n",
    "}\n",
    "\n",
    "reddit = praw.Reddit(client_id=client_id,\n",
    "                     client_secret=client_secret,\n",
    "                     user_agent=user_agent,\n",
    "                     requestor_class=CustomRequestor,\n",
    "                     requestor_kwargs={'proxies': proxies})"
   ]
  },
  {
   "cell_type": "code",
   "execution_count": null,
   "id": "a64d47c3",
   "metadata": {},
   "outputs": [],
   "source": []
  }
 ],
 "metadata": {
  "kernelspec": {
   "display_name": "Python 3 (ipykernel)",
   "language": "python",
   "name": "python3"
  },
  "language_info": {
   "codemirror_mode": {
    "name": "ipython",
    "version": 3
   },
   "file_extension": ".py",
   "mimetype": "text/x-python",
   "name": "python",
   "nbconvert_exporter": "python",
   "pygments_lexer": "ipython3",
   "version": "3.9.12"
  }
 },
 "nbformat": 4,
 "nbformat_minor": 5
}
